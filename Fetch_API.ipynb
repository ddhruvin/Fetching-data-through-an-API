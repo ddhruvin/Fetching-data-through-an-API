{
 "cells": [
  {
   "cell_type": "markdown",
   "id": "7dcf6396",
   "metadata": {},
   "source": [
    "Fetching Data from TMDB API about Top rated movies"
   ]
  },
  {
   "cell_type": "code",
   "execution_count": 1,
   "id": "a5190da6",
   "metadata": {},
   "outputs": [],
   "source": [
    "import pandas as pd\n",
    "import requests"
   ]
  },
  {
   "cell_type": "code",
   "execution_count": 2,
   "id": "de4778c6",
   "metadata": {},
   "outputs": [
    {
     "data": {
      "text/plain": [
       "<Response [200]>"
      ]
     },
     "execution_count": 2,
     "metadata": {},
     "output_type": "execute_result"
    }
   ],
   "source": [
    "requests.get('https://api.themoviedb.org/3/movie/550?api_key=deccc67f4772624bebf1db0433145e08')\n",
    "#Response [200] means that data is fetched\n",
    "#Response [404] means that data is unavailable\n",
    "#Response [500] means that server is down"
   ]
  },
  {
   "cell_type": "code",
   "execution_count": 3,
   "id": "0e62d24b",
   "metadata": {},
   "outputs": [],
   "source": [
    "response = requests.get('https://api.themoviedb.org/3/movie/550?api_key=deccc67f4772624bebf1db0433145e08')"
   ]
  },
  {
   "cell_type": "code",
   "execution_count": 11,
   "id": "89889264",
   "metadata": {},
   "outputs": [
    {
     "data": {
      "text/plain": [
       "[{'id': 508,\n",
       "  'logo_path': '/7cxRWzi4LsVm4Utfpr1hfARNurT.png',\n",
       "  'name': 'Regency Enterprises',\n",
       "  'origin_country': 'US'},\n",
       " {'id': 711,\n",
       "  'logo_path': '/tEiIH5QesdheJmDAqQwvtN60727.png',\n",
       "  'name': 'Fox 2000 Pictures',\n",
       "  'origin_country': 'US'},\n",
       " {'id': 20555,\n",
       "  'logo_path': '/hD8yEGUBlHOcfHYbujp71vD8gZp.png',\n",
       "  'name': 'Taurus Film',\n",
       "  'origin_country': 'DE'},\n",
       " {'id': 54051,\n",
       "  'logo_path': None,\n",
       "  'name': 'Atman Entertainment',\n",
       "  'origin_country': ''},\n",
       " {'id': 54052,\n",
       "  'logo_path': None,\n",
       "  'name': 'Knickerbocker Films',\n",
       "  'origin_country': 'US'},\n",
       " {'id': 4700,\n",
       "  'logo_path': '/A32wmjrs9Psf4zw0uaixF0GXfxq.png',\n",
       "  'name': 'The Linson Company',\n",
       "  'origin_country': 'US'},\n",
       " {'id': 25,\n",
       "  'logo_path': '/qZCc1lty5FzX30aOCVRBLzaVmcp.png',\n",
       "  'name': '20th Century Fox',\n",
       "  'origin_country': 'US'}]"
      ]
     },
     "execution_count": 11,
     "metadata": {},
     "output_type": "execute_result"
    }
   ],
   "source": [
    "response.json()['production_companies']\n",
    "#Converting into a json format\n",
    "#We can also view the json file with the json viewer web app"
   ]
  },
  {
   "cell_type": "code",
   "execution_count": 45,
   "id": "c82b1188",
   "metadata": {},
   "outputs": [
    {
     "data": {
      "text/html": [
       "<div>\n",
       "<style scoped>\n",
       "    .dataframe tbody tr th:only-of-type {\n",
       "        vertical-align: middle;\n",
       "    }\n",
       "\n",
       "    .dataframe tbody tr th {\n",
       "        vertical-align: top;\n",
       "    }\n",
       "\n",
       "    .dataframe thead th {\n",
       "        text-align: right;\n",
       "    }\n",
       "</style>\n",
       "<table border=\"1\" class=\"dataframe\">\n",
       "  <thead>\n",
       "    <tr style=\"text-align: right;\">\n",
       "      <th></th>\n",
       "      <th>id</th>\n",
       "      <th>logo_path</th>\n",
       "      <th>name</th>\n",
       "      <th>origin_country</th>\n",
       "    </tr>\n",
       "  </thead>\n",
       "  <tbody>\n",
       "    <tr>\n",
       "      <th>0</th>\n",
       "      <td>508</td>\n",
       "      <td>/7cxRWzi4LsVm4Utfpr1hfARNurT.png</td>\n",
       "      <td>Regency Enterprises</td>\n",
       "      <td>US</td>\n",
       "    </tr>\n",
       "    <tr>\n",
       "      <th>1</th>\n",
       "      <td>711</td>\n",
       "      <td>/tEiIH5QesdheJmDAqQwvtN60727.png</td>\n",
       "      <td>Fox 2000 Pictures</td>\n",
       "      <td>US</td>\n",
       "    </tr>\n",
       "    <tr>\n",
       "      <th>2</th>\n",
       "      <td>20555</td>\n",
       "      <td>/hD8yEGUBlHOcfHYbujp71vD8gZp.png</td>\n",
       "      <td>Taurus Film</td>\n",
       "      <td>DE</td>\n",
       "    </tr>\n",
       "    <tr>\n",
       "      <th>3</th>\n",
       "      <td>54051</td>\n",
       "      <td>None</td>\n",
       "      <td>Atman Entertainment</td>\n",
       "      <td></td>\n",
       "    </tr>\n",
       "    <tr>\n",
       "      <th>4</th>\n",
       "      <td>54052</td>\n",
       "      <td>None</td>\n",
       "      <td>Knickerbocker Films</td>\n",
       "      <td>US</td>\n",
       "    </tr>\n",
       "    <tr>\n",
       "      <th>5</th>\n",
       "      <td>4700</td>\n",
       "      <td>/A32wmjrs9Psf4zw0uaixF0GXfxq.png</td>\n",
       "      <td>The Linson Company</td>\n",
       "      <td>US</td>\n",
       "    </tr>\n",
       "    <tr>\n",
       "      <th>6</th>\n",
       "      <td>25</td>\n",
       "      <td>/qZCc1lty5FzX30aOCVRBLzaVmcp.png</td>\n",
       "      <td>20th Century Fox</td>\n",
       "      <td>US</td>\n",
       "    </tr>\n",
       "  </tbody>\n",
       "</table>\n",
       "</div>"
      ],
      "text/plain": [
       "      id                         logo_path                 name origin_country\n",
       "0    508  /7cxRWzi4LsVm4Utfpr1hfARNurT.png  Regency Enterprises             US\n",
       "1    711  /tEiIH5QesdheJmDAqQwvtN60727.png    Fox 2000 Pictures             US\n",
       "2  20555  /hD8yEGUBlHOcfHYbujp71vD8gZp.png          Taurus Film             DE\n",
       "3  54051                              None  Atman Entertainment               \n",
       "4  54052                              None  Knickerbocker Films             US\n",
       "5   4700  /A32wmjrs9Psf4zw0uaixF0GXfxq.png   The Linson Company             US\n",
       "6     25  /qZCc1lty5FzX30aOCVRBLzaVmcp.png     20th Century Fox             US"
      ]
     },
     "execution_count": 45,
     "metadata": {},
     "output_type": "execute_result"
    }
   ],
   "source": [
    "pd.DataFrame(response.json()['production_companies'])\n",
    "#Converting into a DataFrame"
   ]
  },
  {
   "cell_type": "code",
   "execution_count": 16,
   "id": "e8d54a00",
   "metadata": {},
   "outputs": [
    {
     "data": {
      "text/html": [
       "<div>\n",
       "<style scoped>\n",
       "    .dataframe tbody tr th:only-of-type {\n",
       "        vertical-align: middle;\n",
       "    }\n",
       "\n",
       "    .dataframe tbody tr th {\n",
       "        vertical-align: top;\n",
       "    }\n",
       "\n",
       "    .dataframe thead th {\n",
       "        text-align: right;\n",
       "    }\n",
       "</style>\n",
       "<table border=\"1\" class=\"dataframe\">\n",
       "  <thead>\n",
       "    <tr style=\"text-align: right;\">\n",
       "      <th></th>\n",
       "      <th>id</th>\n",
       "      <th>logo_path</th>\n",
       "      <th>name</th>\n",
       "      <th>origin_country</th>\n",
       "    </tr>\n",
       "  </thead>\n",
       "  <tbody>\n",
       "    <tr>\n",
       "      <th>0</th>\n",
       "      <td>508</td>\n",
       "      <td>/7cxRWzi4LsVm4Utfpr1hfARNurT.png</td>\n",
       "      <td>Regency Enterprises</td>\n",
       "      <td>US</td>\n",
       "    </tr>\n",
       "    <tr>\n",
       "      <th>1</th>\n",
       "      <td>711</td>\n",
       "      <td>/tEiIH5QesdheJmDAqQwvtN60727.png</td>\n",
       "      <td>Fox 2000 Pictures</td>\n",
       "      <td>US</td>\n",
       "    </tr>\n",
       "  </tbody>\n",
       "</table>\n",
       "</div>"
      ],
      "text/plain": [
       "    id                         logo_path                 name origin_country\n",
       "0  508  /7cxRWzi4LsVm4Utfpr1hfARNurT.png  Regency Enterprises             US\n",
       "1  711  /tEiIH5QesdheJmDAqQwvtN60727.png    Fox 2000 Pictures             US"
      ]
     },
     "execution_count": 16,
     "metadata": {},
     "output_type": "execute_result"
    }
   ],
   "source": [
    "pd.DataFrame(response.json()['production_companies']).head(2)"
   ]
  },
  {
   "cell_type": "code",
   "execution_count": 26,
   "id": "2905e06c",
   "metadata": {},
   "outputs": [
    {
     "data": {
      "text/html": [
       "<div>\n",
       "<style scoped>\n",
       "    .dataframe tbody tr th:only-of-type {\n",
       "        vertical-align: middle;\n",
       "    }\n",
       "\n",
       "    .dataframe tbody tr th {\n",
       "        vertical-align: top;\n",
       "    }\n",
       "\n",
       "    .dataframe thead th {\n",
       "        text-align: right;\n",
       "    }\n",
       "</style>\n",
       "<table border=\"1\" class=\"dataframe\">\n",
       "  <thead>\n",
       "    <tr style=\"text-align: right;\">\n",
       "      <th></th>\n",
       "      <th>name</th>\n",
       "      <th>logo_path</th>\n",
       "    </tr>\n",
       "  </thead>\n",
       "  <tbody>\n",
       "    <tr>\n",
       "      <th>0</th>\n",
       "      <td>Regency Enterprises</td>\n",
       "      <td>/7cxRWzi4LsVm4Utfpr1hfARNurT.png</td>\n",
       "    </tr>\n",
       "    <tr>\n",
       "      <th>1</th>\n",
       "      <td>Fox 2000 Pictures</td>\n",
       "      <td>/tEiIH5QesdheJmDAqQwvtN60727.png</td>\n",
       "    </tr>\n",
       "    <tr>\n",
       "      <th>2</th>\n",
       "      <td>Taurus Film</td>\n",
       "      <td>/hD8yEGUBlHOcfHYbujp71vD8gZp.png</td>\n",
       "    </tr>\n",
       "    <tr>\n",
       "      <th>3</th>\n",
       "      <td>Atman Entertainment</td>\n",
       "      <td>None</td>\n",
       "    </tr>\n",
       "    <tr>\n",
       "      <th>4</th>\n",
       "      <td>Knickerbocker Films</td>\n",
       "      <td>None</td>\n",
       "    </tr>\n",
       "    <tr>\n",
       "      <th>5</th>\n",
       "      <td>The Linson Company</td>\n",
       "      <td>/A32wmjrs9Psf4zw0uaixF0GXfxq.png</td>\n",
       "    </tr>\n",
       "    <tr>\n",
       "      <th>6</th>\n",
       "      <td>20th Century Fox</td>\n",
       "      <td>/qZCc1lty5FzX30aOCVRBLzaVmcp.png</td>\n",
       "    </tr>\n",
       "  </tbody>\n",
       "</table>\n",
       "</div>"
      ],
      "text/plain": [
       "                  name                         logo_path\n",
       "0  Regency Enterprises  /7cxRWzi4LsVm4Utfpr1hfARNurT.png\n",
       "1    Fox 2000 Pictures  /tEiIH5QesdheJmDAqQwvtN60727.png\n",
       "2          Taurus Film  /hD8yEGUBlHOcfHYbujp71vD8gZp.png\n",
       "3  Atman Entertainment                              None\n",
       "4  Knickerbocker Films                              None\n",
       "5   The Linson Company  /A32wmjrs9Psf4zw0uaixF0GXfxq.png\n",
       "6     20th Century Fox  /qZCc1lty5FzX30aOCVRBLzaVmcp.png"
      ]
     },
     "execution_count": 26,
     "metadata": {},
     "output_type": "execute_result"
    }
   ],
   "source": [
    "pd.DataFrame(response.json()['production_companies'])[['name','logo_path']]\n",
    "#Extracting what we need"
   ]
  },
  {
   "cell_type": "code",
   "execution_count": 32,
   "id": "02409714",
   "metadata": {},
   "outputs": [],
   "source": [
    "temp_df = pd.DataFrame(response.json()['production_companies'])[['name','logo_path']]\n",
    "#Storing into a temporary variable"
   ]
  },
  {
   "cell_type": "code",
   "execution_count": 34,
   "id": "673100b3",
   "metadata": {},
   "outputs": [
    {
     "data": {
      "text/plain": [
       "(7, 2)"
      ]
     },
     "execution_count": 34,
     "metadata": {},
     "output_type": "execute_result"
    }
   ],
   "source": [
    "temp_df.shape"
   ]
  },
  {
   "cell_type": "code",
   "execution_count": 30,
   "id": "a99db87f",
   "metadata": {},
   "outputs": [
    {
     "data": {
      "text/html": [
       "<div>\n",
       "<style scoped>\n",
       "    .dataframe tbody tr th:only-of-type {\n",
       "        vertical-align: middle;\n",
       "    }\n",
       "\n",
       "    .dataframe tbody tr th {\n",
       "        vertical-align: top;\n",
       "    }\n",
       "\n",
       "    .dataframe thead th {\n",
       "        text-align: right;\n",
       "    }\n",
       "</style>\n",
       "<table border=\"1\" class=\"dataframe\">\n",
       "  <thead>\n",
       "    <tr style=\"text-align: right;\">\n",
       "      <th></th>\n",
       "    </tr>\n",
       "  </thead>\n",
       "  <tbody>\n",
       "  </tbody>\n",
       "</table>\n",
       "</div>"
      ],
      "text/plain": [
       "Empty DataFrame\n",
       "Columns: []\n",
       "Index: []"
      ]
     },
     "execution_count": 30,
     "metadata": {},
     "output_type": "execute_result"
    }
   ],
   "source": [
    "#Creating an Empty DataFrame\n",
    "df = pd.DataFrame()\n",
    "df"
   ]
  },
  {
   "cell_type": "code",
   "execution_count": 40,
   "id": "1180507e",
   "metadata": {},
   "outputs": [
    {
     "name": "stderr",
     "output_type": "stream",
     "text": [
      "C:\\Users\\dhruv\\AppData\\Local\\Temp\\ipykernel_11884\\3882804912.py:4: FutureWarning: The frame.append method is deprecated and will be removed from pandas in a future version. Use pandas.concat instead.\n",
      "  df = df.append(temp_df,ignore_index = True)\n",
      "C:\\Users\\dhruv\\AppData\\Local\\Temp\\ipykernel_11884\\3882804912.py:4: FutureWarning: The frame.append method is deprecated and will be removed from pandas in a future version. Use pandas.concat instead.\n",
      "  df = df.append(temp_df,ignore_index = True)\n"
     ]
    }
   ],
   "source": [
    "for i in range(1,3):\n",
    "    response = requests.get('https://api.themoviedb.org/3/movie/550?api_key=deccc67f4772624bebf1db0433145e08')\n",
    "    temp_df = pd.DataFrame(response.json()['production_companies'])[['name','logo_path']]\n",
    "    df = df.append(temp_df,ignore_index = True)\n",
    "    \n",
    "#There were 2 to 3 pages so we ran a loop and figured out the remaining data"
   ]
  },
  {
   "cell_type": "code",
   "execution_count": 41,
   "id": "86edbe4b",
   "metadata": {},
   "outputs": [
    {
     "data": {
      "text/html": [
       "<div>\n",
       "<style scoped>\n",
       "    .dataframe tbody tr th:only-of-type {\n",
       "        vertical-align: middle;\n",
       "    }\n",
       "\n",
       "    .dataframe tbody tr th {\n",
       "        vertical-align: top;\n",
       "    }\n",
       "\n",
       "    .dataframe thead th {\n",
       "        text-align: right;\n",
       "    }\n",
       "</style>\n",
       "<table border=\"1\" class=\"dataframe\">\n",
       "  <thead>\n",
       "    <tr style=\"text-align: right;\">\n",
       "      <th></th>\n",
       "      <th>name</th>\n",
       "      <th>logo_path</th>\n",
       "    </tr>\n",
       "  </thead>\n",
       "  <tbody>\n",
       "    <tr>\n",
       "      <th>0</th>\n",
       "      <td>Regency Enterprises</td>\n",
       "      <td>/7cxRWzi4LsVm4Utfpr1hfARNurT.png</td>\n",
       "    </tr>\n",
       "    <tr>\n",
       "      <th>1</th>\n",
       "      <td>Fox 2000 Pictures</td>\n",
       "      <td>/tEiIH5QesdheJmDAqQwvtN60727.png</td>\n",
       "    </tr>\n",
       "    <tr>\n",
       "      <th>2</th>\n",
       "      <td>Taurus Film</td>\n",
       "      <td>/hD8yEGUBlHOcfHYbujp71vD8gZp.png</td>\n",
       "    </tr>\n",
       "    <tr>\n",
       "      <th>3</th>\n",
       "      <td>Atman Entertainment</td>\n",
       "      <td>None</td>\n",
       "    </tr>\n",
       "    <tr>\n",
       "      <th>4</th>\n",
       "      <td>Knickerbocker Films</td>\n",
       "      <td>None</td>\n",
       "    </tr>\n",
       "    <tr>\n",
       "      <th>5</th>\n",
       "      <td>The Linson Company</td>\n",
       "      <td>/A32wmjrs9Psf4zw0uaixF0GXfxq.png</td>\n",
       "    </tr>\n",
       "    <tr>\n",
       "      <th>6</th>\n",
       "      <td>20th Century Fox</td>\n",
       "      <td>/qZCc1lty5FzX30aOCVRBLzaVmcp.png</td>\n",
       "    </tr>\n",
       "    <tr>\n",
       "      <th>7</th>\n",
       "      <td>Regency Enterprises</td>\n",
       "      <td>/7cxRWzi4LsVm4Utfpr1hfARNurT.png</td>\n",
       "    </tr>\n",
       "    <tr>\n",
       "      <th>8</th>\n",
       "      <td>Fox 2000 Pictures</td>\n",
       "      <td>/tEiIH5QesdheJmDAqQwvtN60727.png</td>\n",
       "    </tr>\n",
       "    <tr>\n",
       "      <th>9</th>\n",
       "      <td>Taurus Film</td>\n",
       "      <td>/hD8yEGUBlHOcfHYbujp71vD8gZp.png</td>\n",
       "    </tr>\n",
       "    <tr>\n",
       "      <th>10</th>\n",
       "      <td>Atman Entertainment</td>\n",
       "      <td>None</td>\n",
       "    </tr>\n",
       "    <tr>\n",
       "      <th>11</th>\n",
       "      <td>Knickerbocker Films</td>\n",
       "      <td>None</td>\n",
       "    </tr>\n",
       "    <tr>\n",
       "      <th>12</th>\n",
       "      <td>The Linson Company</td>\n",
       "      <td>/A32wmjrs9Psf4zw0uaixF0GXfxq.png</td>\n",
       "    </tr>\n",
       "    <tr>\n",
       "      <th>13</th>\n",
       "      <td>20th Century Fox</td>\n",
       "      <td>/qZCc1lty5FzX30aOCVRBLzaVmcp.png</td>\n",
       "    </tr>\n",
       "  </tbody>\n",
       "</table>\n",
       "</div>"
      ],
      "text/plain": [
       "                   name                         logo_path\n",
       "0   Regency Enterprises  /7cxRWzi4LsVm4Utfpr1hfARNurT.png\n",
       "1     Fox 2000 Pictures  /tEiIH5QesdheJmDAqQwvtN60727.png\n",
       "2           Taurus Film  /hD8yEGUBlHOcfHYbujp71vD8gZp.png\n",
       "3   Atman Entertainment                              None\n",
       "4   Knickerbocker Films                              None\n",
       "5    The Linson Company  /A32wmjrs9Psf4zw0uaixF0GXfxq.png\n",
       "6      20th Century Fox  /qZCc1lty5FzX30aOCVRBLzaVmcp.png\n",
       "7   Regency Enterprises  /7cxRWzi4LsVm4Utfpr1hfARNurT.png\n",
       "8     Fox 2000 Pictures  /tEiIH5QesdheJmDAqQwvtN60727.png\n",
       "9           Taurus Film  /hD8yEGUBlHOcfHYbujp71vD8gZp.png\n",
       "10  Atman Entertainment                              None\n",
       "11  Knickerbocker Films                              None\n",
       "12   The Linson Company  /A32wmjrs9Psf4zw0uaixF0GXfxq.png\n",
       "13     20th Century Fox  /qZCc1lty5FzX30aOCVRBLzaVmcp.png"
      ]
     },
     "execution_count": 41,
     "metadata": {},
     "output_type": "execute_result"
    }
   ],
   "source": [
    "df"
   ]
  },
  {
   "cell_type": "code",
   "execution_count": null,
   "id": "13f815ee",
   "metadata": {},
   "outputs": [],
   "source": [
    "#And thats how we fetched data from an API, converted the json file into a pandas DataFrame and Finally extracted the necessary \n",
    "#columns and Data"
   ]
  }
 ],
 "metadata": {
  "kernelspec": {
   "display_name": "Python 3 (ipykernel)",
   "language": "python",
   "name": "python3"
  },
  "language_info": {
   "codemirror_mode": {
    "name": "ipython",
    "version": 3
   },
   "file_extension": ".py",
   "mimetype": "text/x-python",
   "name": "python",
   "nbconvert_exporter": "python",
   "pygments_lexer": "ipython3",
   "version": "3.10.0"
  }
 },
 "nbformat": 4,
 "nbformat_minor": 5
}
